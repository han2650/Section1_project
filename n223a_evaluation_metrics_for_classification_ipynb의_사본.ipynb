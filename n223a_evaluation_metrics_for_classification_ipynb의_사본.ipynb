{
  "cells": [
    {
      "cell_type": "markdown",
      "metadata": {
        "id": "view-in-github",
        "colab_type": "text"
      },
      "source": [
        "<a href=\"https://colab.research.google.com/github/han2650/Section1_project/blob/main/n223a_evaluation_metrics_for_classification_ipynb%EC%9D%98_%EC%82%AC%EB%B3%B8.ipynb\" target=\"_parent\"><img src=\"https://colab.research.google.com/assets/colab-badge.svg\" alt=\"Open In Colab\"/></a>"
      ]
    },
    {
      "cell_type": "markdown",
      "source": [
        "<img align=\"right\" src=\"https://ds-cs-images.s3.ap-northeast-2.amazonaws.com/Codestates_Fulllogo_Color.png\" width=100>\n",
        "\n",
        "## *AIB / SECTION 2 / SPRINT 2 / NOTE 3*\n",
        "\n",
        "# 📝 Assignment\n",
        "---"
      ],
      "metadata": {
        "id": "qnqcmTlJ3pPY"
      }
    },
    {
      "cell_type": "markdown",
      "source": [
        "# Evaluation Metrics for Classification\n",
        "\n",
        "### 1) Kaggle 챌린지를 이어서 진행합니다.\n",
        "- **(Urclass Quiz) 다음 조건에서 F beta score를 구하고 제출하세요.**\n",
        "    - TP = 4442, TN = 6165, FP = 1515, FN = 1930, 재현율에 정밀도의 2배 가중치를 부여합니다."
      ],
      "metadata": {
        "id": "nCc3XZEyG3XV"
      }
    },
    {
      "cell_type": "code",
      "execution_count": 1,
      "source": [
        "### 이곳에서 과제를 진행해 주세요 ### "
      ],
      "outputs": [],
      "metadata": {
        "id": "fydOc-zI3pPb"
      }
    },
    {
      "cell_type": "code",
      "source": [
        "!pip install category_encoders\n",
        "!pip install pandas-profiling==3.1.0"
      ],
      "metadata": {
        "id": "Pu28V2Xh9uJ_",
        "colab": {
          "base_uri": "https://localhost:8080/"
        },
        "outputId": "a602f355-c649-4c9b-d89d-5c937caa151f"
      },
      "execution_count": 2,
      "outputs": [
        {
          "output_type": "stream",
          "name": "stdout",
          "text": [
            "Looking in indexes: https://pypi.org/simple, https://us-python.pkg.dev/colab-wheels/public/simple/\n",
            "Collecting category_encoders\n",
            "  Downloading category_encoders-2.5.0-py2.py3-none-any.whl (69 kB)\n",
            "\u001b[K     |████████████████████████████████| 69 kB 3.3 MB/s \n",
            "\u001b[?25hRequirement already satisfied: numpy>=1.14.0 in /usr/local/lib/python3.7/dist-packages (from category_encoders) (1.21.6)\n",
            "Requirement already satisfied: statsmodels>=0.9.0 in /usr/local/lib/python3.7/dist-packages (from category_encoders) (0.10.2)\n",
            "Requirement already satisfied: scikit-learn>=0.20.0 in /usr/local/lib/python3.7/dist-packages (from category_encoders) (1.0.2)\n",
            "Requirement already satisfied: patsy>=0.5.1 in /usr/local/lib/python3.7/dist-packages (from category_encoders) (0.5.2)\n",
            "Requirement already satisfied: pandas>=1.0.5 in /usr/local/lib/python3.7/dist-packages (from category_encoders) (1.3.5)\n",
            "Requirement already satisfied: scipy>=1.0.0 in /usr/local/lib/python3.7/dist-packages (from category_encoders) (1.4.1)\n",
            "Requirement already satisfied: pytz>=2017.3 in /usr/local/lib/python3.7/dist-packages (from pandas>=1.0.5->category_encoders) (2022.1)\n",
            "Requirement already satisfied: python-dateutil>=2.7.3 in /usr/local/lib/python3.7/dist-packages (from pandas>=1.0.5->category_encoders) (2.8.2)\n",
            "Requirement already satisfied: six in /usr/local/lib/python3.7/dist-packages (from patsy>=0.5.1->category_encoders) (1.15.0)\n",
            "Requirement already satisfied: threadpoolctl>=2.0.0 in /usr/local/lib/python3.7/dist-packages (from scikit-learn>=0.20.0->category_encoders) (3.1.0)\n",
            "Requirement already satisfied: joblib>=0.11 in /usr/local/lib/python3.7/dist-packages (from scikit-learn>=0.20.0->category_encoders) (1.1.0)\n",
            "Installing collected packages: category-encoders\n",
            "Successfully installed category-encoders-2.5.0\n",
            "Looking in indexes: https://pypi.org/simple, https://us-python.pkg.dev/colab-wheels/public/simple/\n",
            "Collecting pandas-profiling==3.1.0\n",
            "  Downloading pandas_profiling-3.1.0-py2.py3-none-any.whl (261 kB)\n",
            "\u001b[K     |████████████████████████████████| 261 kB 4.2 MB/s \n",
            "\u001b[?25hRequirement already satisfied: matplotlib>=3.2.0 in /usr/local/lib/python3.7/dist-packages (from pandas-profiling==3.1.0) (3.2.2)\n",
            "Collecting tangled-up-in-unicode==0.1.0\n",
            "  Downloading tangled_up_in_unicode-0.1.0-py3-none-any.whl (3.1 MB)\n",
            "\u001b[K     |████████████████████████████████| 3.1 MB 49.4 MB/s \n",
            "\u001b[?25hRequirement already satisfied: tqdm>=4.48.2 in /usr/local/lib/python3.7/dist-packages (from pandas-profiling==3.1.0) (4.64.0)\n",
            "Requirement already satisfied: seaborn>=0.10.1 in /usr/local/lib/python3.7/dist-packages (from pandas-profiling==3.1.0) (0.11.2)\n",
            "Collecting htmlmin>=0.1.12\n",
            "  Downloading htmlmin-0.1.12.tar.gz (19 kB)\n",
            "Requirement already satisfied: pandas!=1.0.0,!=1.0.1,!=1.0.2,!=1.1.0,>=0.25.3 in /usr/local/lib/python3.7/dist-packages (from pandas-profiling==3.1.0) (1.3.5)\n",
            "Collecting multimethod>=1.4\n",
            "  Downloading multimethod-1.8-py3-none-any.whl (9.8 kB)\n",
            "Collecting PyYAML>=5.0.0\n",
            "  Downloading PyYAML-6.0-cp37-cp37m-manylinux_2_5_x86_64.manylinux1_x86_64.manylinux_2_12_x86_64.manylinux2010_x86_64.whl (596 kB)\n",
            "\u001b[K     |████████████████████████████████| 596 kB 37.0 MB/s \n",
            "\u001b[?25hRequirement already satisfied: numpy>=1.16.0 in /usr/local/lib/python3.7/dist-packages (from pandas-profiling==3.1.0) (1.21.6)\n",
            "Requirement already satisfied: missingno>=0.4.2 in /usr/local/lib/python3.7/dist-packages (from pandas-profiling==3.1.0) (0.5.1)\n",
            "Collecting visions[type_image_path]==0.7.4\n",
            "  Downloading visions-0.7.4-py3-none-any.whl (102 kB)\n",
            "\u001b[K     |████████████████████████████████| 102 kB 9.6 MB/s \n",
            "\u001b[?25hCollecting joblib~=1.0.1\n",
            "  Downloading joblib-1.0.1-py3-none-any.whl (303 kB)\n",
            "\u001b[K     |████████████████████████████████| 303 kB 23.9 MB/s \n",
            "\u001b[?25hRequirement already satisfied: scipy>=1.4.1 in /usr/local/lib/python3.7/dist-packages (from pandas-profiling==3.1.0) (1.4.1)\n",
            "Collecting requests>=2.24.0\n",
            "  Downloading requests-2.28.1-py3-none-any.whl (62 kB)\n",
            "\u001b[K     |████████████████████████████████| 62 kB 1.5 MB/s \n",
            "\u001b[?25hRequirement already satisfied: markupsafe~=2.0.1 in /usr/local/lib/python3.7/dist-packages (from pandas-profiling==3.1.0) (2.0.1)\n",
            "Requirement already satisfied: pydantic>=1.8.1 in /usr/local/lib/python3.7/dist-packages (from pandas-profiling==3.1.0) (1.8.2)\n",
            "Requirement already satisfied: jinja2>=2.11.1 in /usr/local/lib/python3.7/dist-packages (from pandas-profiling==3.1.0) (2.11.3)\n",
            "Collecting phik>=0.11.1\n",
            "  Downloading phik-0.12.2-cp37-cp37m-manylinux_2_17_x86_64.manylinux2014_x86_64.whl (690 kB)\n",
            "\u001b[K     |████████████████████████████████| 690 kB 39.9 MB/s \n",
            "\u001b[?25hRequirement already satisfied: networkx>=2.4 in /usr/local/lib/python3.7/dist-packages (from visions[type_image_path]==0.7.4->pandas-profiling==3.1.0) (2.6.3)\n",
            "Requirement already satisfied: attrs>=19.3.0 in /usr/local/lib/python3.7/dist-packages (from visions[type_image_path]==0.7.4->pandas-profiling==3.1.0) (21.4.0)\n",
            "Requirement already satisfied: Pillow in /usr/local/lib/python3.7/dist-packages (from visions[type_image_path]==0.7.4->pandas-profiling==3.1.0) (7.1.2)\n",
            "Collecting imagehash\n",
            "  Downloading ImageHash-4.2.1.tar.gz (812 kB)\n",
            "\u001b[K     |████████████████████████████████| 812 kB 12.0 MB/s \n",
            "\u001b[?25hRequirement already satisfied: python-dateutil>=2.1 in /usr/local/lib/python3.7/dist-packages (from matplotlib>=3.2.0->pandas-profiling==3.1.0) (2.8.2)\n",
            "Requirement already satisfied: kiwisolver>=1.0.1 in /usr/local/lib/python3.7/dist-packages (from matplotlib>=3.2.0->pandas-profiling==3.1.0) (1.4.3)\n",
            "Requirement already satisfied: cycler>=0.10 in /usr/local/lib/python3.7/dist-packages (from matplotlib>=3.2.0->pandas-profiling==3.1.0) (0.11.0)\n",
            "Requirement already satisfied: pyparsing!=2.0.4,!=2.1.2,!=2.1.6,>=2.0.1 in /usr/local/lib/python3.7/dist-packages (from matplotlib>=3.2.0->pandas-profiling==3.1.0) (3.0.9)\n",
            "Requirement already satisfied: typing-extensions in /usr/local/lib/python3.7/dist-packages (from kiwisolver>=1.0.1->matplotlib>=3.2.0->pandas-profiling==3.1.0) (4.1.1)\n",
            "Requirement already satisfied: pytz>=2017.3 in /usr/local/lib/python3.7/dist-packages (from pandas!=1.0.0,!=1.0.1,!=1.0.2,!=1.1.0,>=0.25.3->pandas-profiling==3.1.0) (2022.1)\n",
            "Collecting scipy>=1.4.1\n",
            "  Downloading scipy-1.7.3-cp37-cp37m-manylinux_2_12_x86_64.manylinux2010_x86_64.whl (38.1 MB)\n",
            "\u001b[K     |████████████████████████████████| 38.1 MB 1.4 MB/s \n",
            "\u001b[?25hRequirement already satisfied: six>=1.5 in /usr/local/lib/python3.7/dist-packages (from python-dateutil>=2.1->matplotlib>=3.2.0->pandas-profiling==3.1.0) (1.15.0)\n",
            "Requirement already satisfied: charset-normalizer<3,>=2 in /usr/local/lib/python3.7/dist-packages (from requests>=2.24.0->pandas-profiling==3.1.0) (2.1.0)\n",
            "Requirement already satisfied: idna<4,>=2.5 in /usr/local/lib/python3.7/dist-packages (from requests>=2.24.0->pandas-profiling==3.1.0) (2.10)\n",
            "Requirement already satisfied: certifi>=2017.4.17 in /usr/local/lib/python3.7/dist-packages (from requests>=2.24.0->pandas-profiling==3.1.0) (2022.6.15)\n",
            "Requirement already satisfied: urllib3<1.27,>=1.21.1 in /usr/local/lib/python3.7/dist-packages (from requests>=2.24.0->pandas-profiling==3.1.0) (1.24.3)\n",
            "Requirement already satisfied: PyWavelets in /usr/local/lib/python3.7/dist-packages (from imagehash->visions[type_image_path]==0.7.4->pandas-profiling==3.1.0) (1.3.0)\n",
            "Building wheels for collected packages: htmlmin, imagehash\n",
            "  Building wheel for htmlmin (setup.py) ... \u001b[?25l\u001b[?25hdone\n",
            "  Created wheel for htmlmin: filename=htmlmin-0.1.12-py3-none-any.whl size=27098 sha256=30d87528031155c0b6f7c7f8520a118e4688d2f5e79468656f6767814f38fe8b\n",
            "  Stored in directory: /root/.cache/pip/wheels/70/e1/52/5b14d250ba868768823940c3229e9950d201a26d0bd3ee8655\n",
            "  Building wheel for imagehash (setup.py) ... \u001b[?25l\u001b[?25hdone\n",
            "  Created wheel for imagehash: filename=ImageHash-4.2.1-py2.py3-none-any.whl size=295206 sha256=2506e3329fabfbedd421a52d67c523a87308b9d1f082beb3c70858004d649bba\n",
            "  Stored in directory: /root/.cache/pip/wheels/4c/d5/59/5e3e297533ddb09407769762985d134135064c6831e29a914e\n",
            "Successfully built htmlmin imagehash\n",
            "Installing collected packages: tangled-up-in-unicode, scipy, multimethod, visions, joblib, imagehash, requests, PyYAML, phik, htmlmin, pandas-profiling\n",
            "  Attempting uninstall: scipy\n",
            "    Found existing installation: scipy 1.4.1\n",
            "    Uninstalling scipy-1.4.1:\n",
            "      Successfully uninstalled scipy-1.4.1\n",
            "  Attempting uninstall: joblib\n",
            "    Found existing installation: joblib 1.1.0\n",
            "    Uninstalling joblib-1.1.0:\n",
            "      Successfully uninstalled joblib-1.1.0\n",
            "  Attempting uninstall: requests\n",
            "    Found existing installation: requests 2.23.0\n",
            "    Uninstalling requests-2.23.0:\n",
            "      Successfully uninstalled requests-2.23.0\n",
            "  Attempting uninstall: PyYAML\n",
            "    Found existing installation: PyYAML 3.13\n",
            "    Uninstalling PyYAML-3.13:\n",
            "      Successfully uninstalled PyYAML-3.13\n",
            "  Attempting uninstall: pandas-profiling\n",
            "    Found existing installation: pandas-profiling 1.4.1\n",
            "    Uninstalling pandas-profiling-1.4.1:\n",
            "      Successfully uninstalled pandas-profiling-1.4.1\n",
            "\u001b[31mERROR: pip's dependency resolver does not currently take into account all the packages that are installed. This behaviour is the source of the following dependency conflicts.\n",
            "google-colab 1.0.0 requires requests~=2.23.0, but you have requests 2.28.1 which is incompatible.\n",
            "datascience 0.10.6 requires folium==0.2.1, but you have folium 0.8.3 which is incompatible.\n",
            "albumentations 0.1.12 requires imgaug<0.2.7,>=0.2.5, but you have imgaug 0.2.9 which is incompatible.\u001b[0m\n",
            "Successfully installed PyYAML-6.0 htmlmin-0.1.12 imagehash-4.2.1 joblib-1.0.1 multimethod-1.8 pandas-profiling-3.1.0 phik-0.12.2 requests-2.28.1 scipy-1.7.3 tangled-up-in-unicode-0.1.0 visions-0.7.4\n"
          ]
        }
      ]
    },
    {
      "cell_type": "code",
      "source": [
        "import pandas as pd\n",
        "from sklearn.model_selection import train_test_split\n",
        "\n",
        "\n",
        "target = 'vacc_h1n1_f'\n",
        "\n",
        "train = pd.merge(pd.read_csv('https://ds-lecture-data.s3.ap-northeast-2.amazonaws.com/vacc_flu/train.csv'),\n",
        "                 pd.read_csv('https://ds-lecture-data.s3.ap-northeast-2.amazonaws.com/vacc_flu/train_labels.csv')[target], left_index=True, right_index=True)\n",
        "test = pd.read_csv('https://ds-lecture-data.s3.ap-northeast-2.amazonaws.com/vacc_flu/test.csv')\n",
        "sample_submission = pd.read_csv('https://ds-lecture-data.s3.ap-northeast-2.amazonaws.com/vacc_flu/submission.csv')\n",
        "\n",
        "train, val = train_test_split(train, train_size=0.8, test_size=0.2, random_state=2)\n",
        "train.shape, val.shape, test.shape"
      ],
      "metadata": {
        "id": "dJSBo19z9uMd",
        "colab": {
          "base_uri": "https://localhost:8080/"
        },
        "outputId": "c65af459-2c19-4f77-da9f-c9b87130b1c9"
      },
      "execution_count": 3,
      "outputs": [
        {
          "output_type": "execute_result",
          "data": {
            "text/plain": [
              "((33723, 39), (8431, 39), (28104, 38))"
            ]
          },
          "metadata": {},
          "execution_count": 3
        }
      ]
    },
    {
      "cell_type": "code",
      "source": [
        "import numpy as np\n",
        "def engineer(df):\n",
        "\n",
        "    # 높은 카디널리티를 가지는 특성을 제거\n",
        "    selected_cols = df.select_dtypes(include=['number', 'object'])\n",
        "    labels = selected_cols.nunique() # 특성별 카디널리티 리스트\n",
        "    selected_features = labels[labels <= 30].index.tolist() # 카디널리티가 30보다 작은 특성만 선택\n",
        "    df = df[selected_features]\n",
        "\n",
        "    # 새로운 특성을 생성,\n",
        "    behaviorals = [col for col in df.columns if 'behavioral' in col]\n",
        "    df['behaviorals'] = df[behaviorals].sum(axis=1)\n",
        "\n",
        "    # 큰 영향을 주지 않는다고 판단되는 features 삭제\n",
        "    dels = [col for col in df.columns if ('employment' in col or 'seas' in col)]\n",
        "    df.drop(columns=dels, inplace=True)\n",
        "\n",
        "    return df\n",
        "\n",
        "train = engineer(train)\n",
        "val = engineer(val)\n",
        "test = engineer(test)\n",
        "\n",
        "features = train.drop(target,axis=1).columns\n",
        "\n",
        "X_train = train[features]\n",
        "y_train = train[target]\n",
        "X_val = val[features]\n",
        "y_val = val[target]\n",
        "X_test = test[features]"
      ],
      "metadata": {
        "id": "xHqbS4yB9uO1"
      },
      "execution_count": 4,
      "outputs": []
    },
    {
      "cell_type": "code",
      "source": [
        "from category_encoders import OneHotEncoder\n",
        "from category_encoders import OrdinalEncoder \n",
        "from sklearn.impute import SimpleImputer\n",
        "from sklearn.preprocessing import StandardScaler\n",
        "from sklearn.linear_model import LogisticRegression\n",
        "from sklearn.ensemble import RandomForestClassifier\n",
        "\n",
        "from sklearn.pipeline import make_pipeline\n",
        "from sklearn.metrics import f1_score\n",
        "\n",
        "pipe = make_pipeline(\n",
        "    OrdinalEncoder(),\n",
        "    SimpleImputer(),\n",
        "    StandardScaler(),\n",
        "    RandomForestClassifier(n_jobs=-1, random_state=10, oob_score=True))\n",
        "\n",
        "pipe.fit(X_train, y_train)\n",
        "\n",
        "print('검증세트 정확도', pipe.score(X_val, y_val))\n",
        "\n",
        "y_pred = pipe.predict(X_test)"
      ],
      "metadata": {
        "id": "GJ03QwwQ9uRX",
        "colab": {
          "base_uri": "https://localhost:8080/"
        },
        "outputId": "4257219d-7513-4ad3-db86-9cd68ac3b03a"
      },
      "execution_count": 10,
      "outputs": [
        {
          "output_type": "stream",
          "name": "stdout",
          "text": [
            "검증세트 정확도 0.8157988376230577\n"
          ]
        }
      ]
    },
    {
      "cell_type": "code",
      "source": [
        "tp = 4442\n",
        "tn = 6165\n",
        "fp = 1515\n",
        "fn = 1930\n",
        "total = tp + tn + fp + fn"
      ],
      "metadata": {
        "id": "ShiwiSXQHH4b"
      },
      "execution_count": 11,
      "outputs": []
    },
    {
      "cell_type": "code",
      "source": [
        "# 정밀도\n",
        "positives = tp + fp\n",
        "tp/positives"
      ],
      "metadata": {
        "colab": {
          "base_uri": "https://localhost:8080/"
        },
        "id": "RFX09cGjHap7",
        "outputId": "ff2802d3-b0b7-4173-983a-88b1894f3171"
      },
      "execution_count": 12,
      "outputs": [
        {
          "output_type": "execute_result",
          "data": {
            "text/plain": [
              "0.7456773543730065"
            ]
          },
          "metadata": {},
          "execution_count": 12
        }
      ]
    },
    {
      "cell_type": "code",
      "source": [
        "real_positives = tp + fn\n",
        "real_positives"
      ],
      "metadata": {
        "colab": {
          "base_uri": "https://localhost:8080/"
        },
        "id": "MCpKIAOsHbPj",
        "outputId": "a1d08c32-8492-4c90-c904-d33168486f9d"
      },
      "execution_count": 13,
      "outputs": [
        {
          "output_type": "execute_result",
          "data": {
            "text/plain": [
              "6372"
            ]
          },
          "metadata": {},
          "execution_count": 13
        }
      ]
    },
    {
      "cell_type": "code",
      "source": [
        "# 재현율\n",
        "tp / real_positives"
      ],
      "metadata": {
        "colab": {
          "base_uri": "https://localhost:8080/"
        },
        "id": "xJ5e_6wnHbRy",
        "outputId": "2d190eb3-ea71-4cf3-cf01-50a672867996"
      },
      "execution_count": 14,
      "outputs": [
        {
          "output_type": "execute_result",
          "data": {
            "text/plain": [
              "0.697112366603892"
            ]
          },
          "metadata": {},
          "execution_count": 14
        }
      ]
    },
    {
      "cell_type": "markdown",
      "source": [
        "### 2) 모델을 학습한 후 Confusion matrix를 그리고 해석하세요\n",
        "- 임계값을 조정한 후 confusion matrix를 그려보세요\n",
        "- **(Urclass Quiz) 임계값을 증가시킬때 positive 범주의 재현율 변화 중 올바른 설명을 고르세요.**\n",
        "    1. 증가\n",
        "    2. 감소\n",
        "    3. 변화가 없다\n"
      ],
      "metadata": {
        "id": "a4B3V1ge3pPb"
      }
    },
    {
      "cell_type": "code",
      "execution_count": 6,
      "source": [
        "### 이곳에서 과제를 진행해 주세요 ### "
      ],
      "outputs": [],
      "metadata": {
        "id": "PimH1JtA3pPc"
      }
    },
    {
      "cell_type": "code",
      "source": [
        "import seaborn as sns\n",
        "from ipywidgets import interact, fixed\n",
        "from sklearn.metrics import classification_report\n",
        "import matplotlib.pyplot as plt\n",
        "\n",
        "def explore_threshold(y_true, y_pred_proba, threshold=0.5):\n",
        "    y_pred = y_pred_proba >= threshold\n",
        "    vc = pd.Series(y_pred).value_counts()\n",
        "    ax = sns.histplot(y_pred_proba, kde=True)\n",
        "    ax.axvline(threshold, color='red')\n",
        "    ax.set_title(f'# of target, 1={vc[1]}, 0={vc[0]}')\n",
        "    plt.show()\n",
        "    print(classification_report(y_true, y_pred))\n",
        "\n",
        "    \n",
        "interact(explore_threshold, \n",
        "    y_true=fixed(y_val), \n",
        "    y_pred_proba=fixed(y_pred_proba), \n",
        "    threshold=(0, 1, 0.01))"
      ],
      "metadata": {
        "colab": {
          "base_uri": "https://localhost:8080/",
          "height": 498,
          "referenced_widgets": [
            "d7df09bf23bf49d78dd0f4620a48da3b",
            "95ea3353714946e7aafe247f8a088b1f",
            "a22b847d2cf34f6da8cd598e0129fc34",
            "e31aa1079b0a4e2a905d0e18df6c5895",
            "64c4ffcfab7344328a4bddf86e197454",
            "6d06423d33a74bddaf40c01384775192",
            "626efd528ea547db85d17c8a65b7cca6"
          ]
        },
        "id": "5Hn_PkLqIAaS",
        "outputId": "fa1b92cd-85a9-446a-ac5b-ef70df1193b3"
      },
      "execution_count": 18,
      "outputs": [
        {
          "output_type": "display_data",
          "data": {
            "text/plain": [
              "interactive(children=(FloatSlider(value=0.5, description='threshold', max=1.0, step=0.01), Output()), _dom_cla…"
            ],
            "application/vnd.jupyter.widget-view+json": {
              "version_major": 2,
              "version_minor": 0,
              "model_id": "d7df09bf23bf49d78dd0f4620a48da3b"
            }
          },
          "metadata": {}
        },
        {
          "output_type": "execute_result",
          "data": {
            "text/plain": [
              "<function __main__.explore_threshold>"
            ]
          },
          "metadata": {},
          "execution_count": 18
        }
      ]
    },
    {
      "cell_type": "code",
      "source": [
        ""
      ],
      "metadata": {
        "id": "QhR2rqePIAhS"
      },
      "execution_count": null,
      "outputs": []
    },
    {
      "cell_type": "markdown",
      "source": [
        "### 3) 랜덤포레스트의 n_estimator를 1, 10, 100, 1000으로 바꾸어 가며 positive 범주의 predict_proba를 비교해 보세요\n",
        "- 하이퍼파라미터는 다음과 같이 설정합니다.\n",
        "    - n_jobs=-1, random_state=10, max_depth=None, oob_score=True\n",
        "- **(Urclass Quiz) 확률값들의 분포의 변화를 아래 보기 중에서 고르세요**\n",
        "    1. 다양해진다\n",
        "    2. 변화가없다\n"
      ],
      "metadata": {
        "id": "_fw6WQ_W3pPc"
      }
    },
    {
      "cell_type": "code",
      "execution_count": 7,
      "source": [
        "### 이곳에서 과제를 진행해 주세요 ###"
      ],
      "outputs": [],
      "metadata": {
        "id": "Jqu2MnEJ3pPc"
      }
    },
    {
      "cell_type": "code",
      "source": [
        "from sklearn.ensemble import RandomForestClassifier \n",
        "from sklearn.model_selection import GridSearchCV, RandomizedSearchCV\n",
        "\n",
        "param_grid = [\n",
        "              {'n_estimators':[3,10,30,35,40], 'max_features':[2,4,6,8,10,12]},\n",
        "              {'bootstrap':[False],'n_estimators':[3,5,10], 'max_features':[2,3,4]}\n",
        "]\n",
        "\n",
        "forest_reg = RandomForestClassifier()\n",
        "\n",
        "grid_search = GridSearchCV(forest_reg, param_grid, cv=5,\n",
        "                           scoring='accuracy',\n",
        "                           verbose=1,\n",
        "                           return_train_score=True)\n",
        "\n",
        "grid_search.fit(X_train_prepared, Y_train)"
      ],
      "metadata": {
        "id": "XgpOFzavJh1q"
      },
      "execution_count": null,
      "outputs": []
    },
    {
      "cell_type": "code",
      "source": [
        ""
      ],
      "metadata": {
        "id": "MDhqW3VhJh4K"
      },
      "execution_count": null,
      "outputs": []
    },
    {
      "cell_type": "code",
      "source": [
        ""
      ],
      "metadata": {
        "id": "53_UTz0RJh6j"
      },
      "execution_count": null,
      "outputs": []
    },
    {
      "cell_type": "code",
      "source": [
        ""
      ],
      "metadata": {
        "id": "zyIYWo2aJh_C"
      },
      "execution_count": null,
      "outputs": []
    },
    {
      "cell_type": "code",
      "source": [
        ""
      ],
      "metadata": {
        "id": "wsiSsz_IJiBa"
      },
      "execution_count": null,
      "outputs": []
    },
    {
      "cell_type": "markdown",
      "source": [
        "### 4) 두개 이상의 다른 분류 모델을 학습시켜 ROC curve, AUC 점수를 비교하고 설명합니다.\n",
        "- 더 좋은 결과가 나오는 모델을 사용해서 캐글에 제출하세요\n",
        "- **(Urclass Quiz) 캐글 Leaderboard의 본인 Score를 제출하세요.**"
      ],
      "metadata": {
        "id": "o3WhI-1U3pPd"
      }
    },
    {
      "cell_type": "code",
      "execution_count": 8,
      "source": [
        "### 이곳에서 과제를 진행해 주세요 ### "
      ],
      "outputs": [],
      "metadata": {
        "id": "DbavXQqJ3pPd"
      }
    },
    {
      "cell_type": "markdown",
      "source": [
        "## 🔥 도전과제(Github - Discussion)"
      ],
      "metadata": {
        "id": "4m_6Ncf73pPd"
      }
    },
    {
      "cell_type": "markdown",
      "source": [
        "### 5) confusion matrix, classification report 등을 그려 보시고, 각 평가지표들에 대해 최대한 분석하고 precision과 recall 중 어느 것을 높이는 방향으로 모델링 해야할지 논의해 보세요. "
      ],
      "metadata": {
        "id": "WVV41pko3pPe"
      }
    },
    {
      "cell_type": "code",
      "execution_count": 9,
      "source": [
        "### 이곳에서 과제를 진행해 주세요 ### "
      ],
      "outputs": [],
      "metadata": {
        "id": "u7eBk0gZ3pPe"
      }
    }
  ],
  "metadata": {
    "kernelspec": {
      "display_name": "Python 3",
      "language": "python",
      "name": "python3"
    },
    "language_info": {
      "codemirror_mode": {
        "name": "ipython",
        "version": 3
      },
      "file_extension": ".py",
      "mimetype": "text/x-python",
      "name": "python",
      "nbconvert_exporter": "python",
      "pygments_lexer": "ipython3",
      "version": "3.7.7"
    },
    "colab": {
      "name": "n223a-evaluation-metrics-for-classification.ipynb의 사본",
      "provenance": [],
      "collapsed_sections": [],
      "include_colab_link": true
    },
    "widgets": {
      "application/vnd.jupyter.widget-state+json": {
        "d7df09bf23bf49d78dd0f4620a48da3b": {
          "model_module": "@jupyter-widgets/controls",
          "model_name": "VBoxModel",
          "model_module_version": "1.5.0",
          "state": {
            "_dom_classes": [
              "widget-interact"
            ],
            "_model_module": "@jupyter-widgets/controls",
            "_model_module_version": "1.5.0",
            "_model_name": "VBoxModel",
            "_view_count": null,
            "_view_module": "@jupyter-widgets/controls",
            "_view_module_version": "1.5.0",
            "_view_name": "VBoxView",
            "box_style": "",
            "children": [
              "IPY_MODEL_95ea3353714946e7aafe247f8a088b1f",
              "IPY_MODEL_a22b847d2cf34f6da8cd598e0129fc34"
            ],
            "layout": "IPY_MODEL_e31aa1079b0a4e2a905d0e18df6c5895"
          }
        },
        "95ea3353714946e7aafe247f8a088b1f": {
          "model_module": "@jupyter-widgets/controls",
          "model_name": "FloatSliderModel",
          "model_module_version": "1.5.0",
          "state": {
            "_dom_classes": [],
            "_model_module": "@jupyter-widgets/controls",
            "_model_module_version": "1.5.0",
            "_model_name": "FloatSliderModel",
            "_view_count": null,
            "_view_module": "@jupyter-widgets/controls",
            "_view_module_version": "1.5.0",
            "_view_name": "FloatSliderView",
            "continuous_update": true,
            "description": "threshold",
            "description_tooltip": null,
            "disabled": false,
            "layout": "IPY_MODEL_64c4ffcfab7344328a4bddf86e197454",
            "max": 1,
            "min": 0,
            "orientation": "horizontal",
            "readout": true,
            "readout_format": ".2f",
            "step": 0.01,
            "style": "IPY_MODEL_6d06423d33a74bddaf40c01384775192",
            "value": 0.11
          }
        },
        "a22b847d2cf34f6da8cd598e0129fc34": {
          "model_module": "@jupyter-widgets/output",
          "model_name": "OutputModel",
          "model_module_version": "1.0.0",
          "state": {
            "_dom_classes": [],
            "_model_module": "@jupyter-widgets/output",
            "_model_module_version": "1.0.0",
            "_model_name": "OutputModel",
            "_view_count": null,
            "_view_module": "@jupyter-widgets/output",
            "_view_module_version": "1.0.0",
            "_view_name": "OutputView",
            "layout": "IPY_MODEL_626efd528ea547db85d17c8a65b7cca6",
            "msg_id": "",
            "outputs": [
              {
                "output_type": "display_data",
                "data": {
                  "text/plain": "<Figure size 432x288 with 1 Axes>",
                  "image/png": "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\n"
                },
                "metadata": {
                  "needs_background": "light"
                }
              },
              {
                "output_type": "stream",
                "name": "stdout",
                "text": [
                  "              precision    recall  f1-score   support\n",
                  "\n",
                  "           0       0.94      0.47      0.62      6359\n",
                  "           1       0.36      0.91      0.51      2072\n",
                  "\n",
                  "    accuracy                           0.58      8431\n",
                  "   macro avg       0.65      0.69      0.57      8431\n",
                  "weighted avg       0.80      0.58      0.60      8431\n",
                  "\n"
                ]
              }
            ]
          }
        },
        "e31aa1079b0a4e2a905d0e18df6c5895": {
          "model_module": "@jupyter-widgets/base",
          "model_name": "LayoutModel",
          "model_module_version": "1.2.0",
          "state": {
            "_model_module": "@jupyter-widgets/base",
            "_model_module_version": "1.2.0",
            "_model_name": "LayoutModel",
            "_view_count": null,
            "_view_module": "@jupyter-widgets/base",
            "_view_module_version": "1.2.0",
            "_view_name": "LayoutView",
            "align_content": null,
            "align_items": null,
            "align_self": null,
            "border": null,
            "bottom": null,
            "display": null,
            "flex": null,
            "flex_flow": null,
            "grid_area": null,
            "grid_auto_columns": null,
            "grid_auto_flow": null,
            "grid_auto_rows": null,
            "grid_column": null,
            "grid_gap": null,
            "grid_row": null,
            "grid_template_areas": null,
            "grid_template_columns": null,
            "grid_template_rows": null,
            "height": null,
            "justify_content": null,
            "justify_items": null,
            "left": null,
            "margin": null,
            "max_height": null,
            "max_width": null,
            "min_height": null,
            "min_width": null,
            "object_fit": null,
            "object_position": null,
            "order": null,
            "overflow": null,
            "overflow_x": null,
            "overflow_y": null,
            "padding": null,
            "right": null,
            "top": null,
            "visibility": null,
            "width": null
          }
        },
        "64c4ffcfab7344328a4bddf86e197454": {
          "model_module": "@jupyter-widgets/base",
          "model_name": "LayoutModel",
          "model_module_version": "1.2.0",
          "state": {
            "_model_module": "@jupyter-widgets/base",
            "_model_module_version": "1.2.0",
            "_model_name": "LayoutModel",
            "_view_count": null,
            "_view_module": "@jupyter-widgets/base",
            "_view_module_version": "1.2.0",
            "_view_name": "LayoutView",
            "align_content": null,
            "align_items": null,
            "align_self": null,
            "border": null,
            "bottom": null,
            "display": null,
            "flex": null,
            "flex_flow": null,
            "grid_area": null,
            "grid_auto_columns": null,
            "grid_auto_flow": null,
            "grid_auto_rows": null,
            "grid_column": null,
            "grid_gap": null,
            "grid_row": null,
            "grid_template_areas": null,
            "grid_template_columns": null,
            "grid_template_rows": null,
            "height": null,
            "justify_content": null,
            "justify_items": null,
            "left": null,
            "margin": null,
            "max_height": null,
            "max_width": null,
            "min_height": null,
            "min_width": null,
            "object_fit": null,
            "object_position": null,
            "order": null,
            "overflow": null,
            "overflow_x": null,
            "overflow_y": null,
            "padding": null,
            "right": null,
            "top": null,
            "visibility": null,
            "width": null
          }
        },
        "6d06423d33a74bddaf40c01384775192": {
          "model_module": "@jupyter-widgets/controls",
          "model_name": "SliderStyleModel",
          "model_module_version": "1.5.0",
          "state": {
            "_model_module": "@jupyter-widgets/controls",
            "_model_module_version": "1.5.0",
            "_model_name": "SliderStyleModel",
            "_view_count": null,
            "_view_module": "@jupyter-widgets/base",
            "_view_module_version": "1.2.0",
            "_view_name": "StyleView",
            "description_width": "",
            "handle_color": null
          }
        },
        "626efd528ea547db85d17c8a65b7cca6": {
          "model_module": "@jupyter-widgets/base",
          "model_name": "LayoutModel",
          "model_module_version": "1.2.0",
          "state": {
            "_model_module": "@jupyter-widgets/base",
            "_model_module_version": "1.2.0",
            "_model_name": "LayoutModel",
            "_view_count": null,
            "_view_module": "@jupyter-widgets/base",
            "_view_module_version": "1.2.0",
            "_view_name": "LayoutView",
            "align_content": null,
            "align_items": null,
            "align_self": null,
            "border": null,
            "bottom": null,
            "display": null,
            "flex": null,
            "flex_flow": null,
            "grid_area": null,
            "grid_auto_columns": null,
            "grid_auto_flow": null,
            "grid_auto_rows": null,
            "grid_column": null,
            "grid_gap": null,
            "grid_row": null,
            "grid_template_areas": null,
            "grid_template_columns": null,
            "grid_template_rows": null,
            "height": null,
            "justify_content": null,
            "justify_items": null,
            "left": null,
            "margin": null,
            "max_height": null,
            "max_width": null,
            "min_height": null,
            "min_width": null,
            "object_fit": null,
            "object_position": null,
            "order": null,
            "overflow": null,
            "overflow_x": null,
            "overflow_y": null,
            "padding": null,
            "right": null,
            "top": null,
            "visibility": null,
            "width": null
          }
        }
      }
    }
  },
  "nbformat": 4,
  "nbformat_minor": 0
}